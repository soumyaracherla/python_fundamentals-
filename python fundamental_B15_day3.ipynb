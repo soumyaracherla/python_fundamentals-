{
 "cells": [
  {
   "cell_type": "code",
   "execution_count": null,
   "metadata": {},
   "outputs": [],
   "source": [
    "Introduction to f string"
   ]
  },
  {
   "cell_type": "code",
   "execution_count": 3,
   "metadata": {},
   "outputs": [
    {
     "name": "stdout",
     "output_type": "stream",
     "text": [
      "chunduri sukanya\n"
     ]
    }
   ],
   "source": [
    "first_name= 'chunduri'\n",
    "\n",
    "last_name= 'sukanya'\n",
    "\n",
    "full_name= f\"{first_name} {last_name}\"\n",
    "\n",
    "print(full_name)"
   ]
  },
  {
   "cell_type": "code",
   "execution_count": null,
   "metadata": {},
   "outputs": [],
   "source": [
    "f string concept is used to create the place holderes and building relations of the variable\n",
    "\n",
    "\n",
    "General syntax: f sstring\n",
    "f\"{place holder1} {place holder2}\"\n"
   ]
  },
  {
   "cell_type": "code",
   "execution_count": 5,
   "metadata": {},
   "outputs": [
    {
     "name": "stdout",
     "output_type": "stream",
     "text": [
      "soumya racherla rao\n"
     ]
    }
   ],
   "source": [
    "firstname= 'soumya'\n",
    "\n",
    "middlename= 'racherla'\n",
    "\n",
    "lastname= 'rao'\n",
    "\n",
    "fullname= f\"{firstname} {middlename} {lastname}\"\n",
    "\n",
    "print(fullname)"
   ]
  },
  {
   "cell_type": "code",
   "execution_count": null,
   "metadata": {},
   "outputs": [],
   "source": [
    "Enhancement of the f string:"
   ]
  },
  {
   "cell_type": "code",
   "execution_count": 6,
   "metadata": {},
   "outputs": [
    {
     "name": "stdout",
     "output_type": "stream",
     "text": [
      "thanks for completing the work on time good job shravya tunki\n"
     ]
    }
   ],
   "source": [
    "firstname= 'shravya'\n",
    "\n",
    "lastname= 'tunki'\n",
    "\n",
    "message= f\"thanks for completing the work on time good job {firstname} {lastname}\"\n",
    "\n",
    "print(message)"
   ]
  },
  {
   "cell_type": "code",
   "execution_count": 7,
   "metadata": {},
   "outputs": [
    {
     "name": "stdout",
     "output_type": "stream",
     "text": [
      "congratulations soumya\n"
     ]
    }
   ],
   "source": [
    "name= 'soumya'\n",
    "\n",
    "message= f\"congratulations {name}\"\n",
    "\n",
    "print(message)"
   ]
  },
  {
   "cell_type": "code",
   "execution_count": 8,
   "metadata": {},
   "outputs": [
    {
     "name": "stdout",
     "output_type": "stream",
     "text": [
      "koushik can you help me to complete the task\n"
     ]
    }
   ],
   "source": [
    "name= 'koushik'\n",
    "\n",
    "line= f\"{name} can you help me to complete the task\"\n",
    "\n",
    "print(line)"
   ]
  },
  {
   "cell_type": "code",
   "execution_count": 12,
   "metadata": {},
   "outputs": [],
   "source": [
    "#Further enhancement of the code:"
   ]
  },
  {
   "cell_type": "code",
   "execution_count": 13,
   "metadata": {},
   "outputs": [
    {
     "name": "stdout",
     "output_type": "stream",
     "text": [
      "thanks for completing the work on time good job Abc Xyz\n"
     ]
    }
   ],
   "source": [
    "firstname= 'abc'\n",
    "\n",
    "lastname= 'xyz'\n",
    "\n",
    "message= f\"thanks for completing the work on time good job {firstname.title()} {lastname.title()}\"\n",
    "\n",
    "print(message)"
   ]
  },
  {
   "cell_type": "code",
   "execution_count": 14,
   "metadata": {},
   "outputs": [
    {
     "name": "stdout",
     "output_type": "stream",
     "text": [
      "Soumya Racherla Rao\n"
     ]
    }
   ],
   "source": [
    "firstname= 'soumya'\n",
    "\n",
    "middlename= 'racherla'\n",
    "\n",
    "lastname= 'rao'\n",
    "\n",
    "fullname= f\"{firstname.title()} {middlename.title()} {lastname.title()}\"\n",
    "\n",
    "print(fullname)"
   ]
  },
  {
   "cell_type": "code",
   "execution_count": null,
   "metadata": {},
   "outputs": [],
   "source": [
    "# Adding white space to strings."
   ]
  },
  {
   "cell_type": "code",
   "execution_count": 16,
   "metadata": {},
   "outputs": [
    {
     "name": "stdout",
     "output_type": "stream",
     "text": [
      "python\n"
     ]
    }
   ],
   "source": [
    "print('python')"
   ]
  },
  {
   "cell_type": "code",
   "execution_count": 17,
   "metadata": {},
   "outputs": [
    {
     "name": "stdout",
     "output_type": "stream",
     "text": [
      "python c c++\n"
     ]
    }
   ],
   "source": [
    "print('python','c','c++')"
   ]
  },
  {
   "cell_type": "code",
   "execution_count": 18,
   "metadata": {},
   "outputs": [
    {
     "name": "stdout",
     "output_type": "stream",
     "text": [
      "python\n",
      " c\n",
      " c++\n",
      "\n"
     ]
    }
   ],
   "source": [
    "print('python\\n','c\\n','c++\\n')"
   ]
  },
  {
   "cell_type": "code",
   "execution_count": null,
   "metadata": {},
   "outputs": [],
   "source": [
    "# Adding a new line delimiters, \\n-----> printing a character in a new line."
   ]
  },
  {
   "cell_type": "code",
   "execution_count": 21,
   "metadata": {},
   "outputs": [
    {
     "name": "stdout",
     "output_type": "stream",
     "text": [
      "\tpython\n"
     ]
    }
   ],
   "source": [
    "print('\\tpython')"
   ]
  },
  {
   "cell_type": "code",
   "execution_count": 24,
   "metadata": {},
   "outputs": [
    {
     "name": "stdout",
     "output_type": "stream",
     "text": [
      "\tc \tc++ \n",
      "java \n",
      "python\n"
     ]
    }
   ],
   "source": [
    "print('\\tc','\\tc++','\\njava','\\npython')"
   ]
  },
  {
   "cell_type": "code",
   "execution_count": null,
   "metadata": {},
   "outputs": [],
   "source": [
    "# Adding a tab delimiter:"
   ]
  },
  {
   "cell_type": "code",
   "execution_count": 26,
   "metadata": {},
   "outputs": [
    {
     "name": "stdout",
     "output_type": "stream",
     "text": [
      "fav lang: \t\n",
      "python \t\n",
      "c \t\n",
      "c++ \t\n",
      "java\n"
     ]
    }
   ],
   "source": [
    "print('fav lang:','\\t\\npython','\\t\\nc','\\t\\nc++','\\t\\njava')"
   ]
  },
  {
   "cell_type": "code",
   "execution_count": 27,
   "metadata": {},
   "outputs": [
    {
     "name": "stdout",
     "output_type": "stream",
     "text": [
      "fav lang: \n",
      "\tpython \n",
      "\tc \n",
      "\tc++ \n",
      "\tjava\n"
     ]
    }
   ],
   "source": [
    "print('fav lang:','\\n\\tpython','\\n\\tc','\\n\\tc++','\\n\\tjava')"
   ]
  },
  {
   "cell_type": "code",
   "execution_count": 28,
   "metadata": {},
   "outputs": [
    {
     "name": "stdout",
     "output_type": "stream",
     "text": [
      "fav lang: \n",
      "\tpython \n",
      "\tc \t\n",
      "c++ \t\n",
      "java\n"
     ]
    }
   ],
   "source": [
    "print('fav lang:','\\n\\tpython','\\n\\tc','\\t\\nc++','\\t\\njava')"
   ]
  },
  {
   "cell_type": "code",
   "execution_count": 29,
   "metadata": {},
   "outputs": [
    {
     "name": "stdout",
     "output_type": "stream",
     "text": [
      "fav lang: \t\tpython \t\tc \t\tc++ \t\tjava\n"
     ]
    }
   ],
   "source": [
    "print('fav lang:','\\t\\tpython','\\t\\tc','\\t\\tc++','\\t\\tjava')"
   ]
  },
  {
   "cell_type": "code",
   "execution_count": 30,
   "metadata": {},
   "outputs": [
    {
     "name": "stdout",
     "output_type": "stream",
     "text": [
      "fav lang: \n",
      "\n",
      "python \n",
      "\n",
      "c \n",
      "\n",
      "c++ \n",
      "\n",
      "java\n"
     ]
    }
   ],
   "source": [
    "print('fav lang:','\\n\\npython','\\n\\nc','\\n\\nc++','\\n\\njava')"
   ]
  },
  {
   "cell_type": "code",
   "execution_count": null,
   "metadata": {},
   "outputs": [],
   "source": []
  }
 ],
 "metadata": {
  "kernelspec": {
   "display_name": "Python 3",
   "language": "python",
   "name": "python3"
  },
  "language_info": {
   "codemirror_mode": {
    "name": "ipython",
    "version": 3
   },
   "file_extension": ".py",
   "mimetype": "text/x-python",
   "name": "python",
   "nbconvert_exporter": "python",
   "pygments_lexer": "ipython3",
   "version": "3.7.6"
  }
 },
 "nbformat": 4,
 "nbformat_minor": 4
}
