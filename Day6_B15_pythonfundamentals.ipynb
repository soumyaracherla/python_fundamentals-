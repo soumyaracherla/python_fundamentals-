{
 "cells": [
  {
   "cell_type": "code",
   "execution_count": null,
   "metadata": {},
   "outputs": [],
   "source": [
    "Introduction to looping statements:"
   ]
  },
  {
   "cell_type": "code",
   "execution_count": null,
   "metadata": {},
   "outputs": [],
   "source": [
    "For loop introduction:"
   ]
  },
  {
   "cell_type": "code",
   "execution_count": 1,
   "metadata": {},
   "outputs": [
    {
     "name": "stdout",
     "output_type": "stream",
     "text": [
      "['soumya', 'saif', 'suchi', 'surya', 'sunil', 'shrawal']\n"
     ]
    }
   ],
   "source": [
    "students= ['soumya','saif','suchi','surya','sunil','shrawal']\n",
    "\n",
    "print(students)"
   ]
  },
  {
   "cell_type": "code",
   "execution_count": 7,
   "metadata": {},
   "outputs": [
    {
     "name": "stdout",
     "output_type": "stream",
     "text": [
      "you are doing a good job,['soumya', 'saif', 'suchi', 'surya', 'sunil', 'shrawal']\n"
     ]
    }
   ],
   "source": [
    "print(f\"you are doing a good job,{students}\")"
   ]
  },
  {
   "cell_type": "code",
   "execution_count": 8,
   "metadata": {},
   "outputs": [
    {
     "name": "stdout",
     "output_type": "stream",
     "text": [
      "you are doing a good job,sunil\n"
     ]
    }
   ],
   "source": [
    "print(f\"you are doing a good job,{students[4]}\")"
   ]
  },
  {
   "cell_type": "code",
   "execution_count": 10,
   "metadata": {},
   "outputs": [
    {
     "name": "stdout",
     "output_type": "stream",
     "text": [
      "soumya\n",
      "saif\n",
      "suchi\n",
      "surya\n",
      "sunil\n",
      "shrawal\n"
     ]
    }
   ],
   "source": [
    "for student in students:\n",
    "    \n",
    "    print(student)"
   ]
  },
  {
   "cell_type": "code",
   "execution_count": 14,
   "metadata": {},
   "outputs": [
    {
     "name": "stdout",
     "output_type": "stream",
     "text": [
      "you are doing a good job,soumya\n",
      "you are doing a good job,saif\n",
      "you are doing a good job,suchi\n",
      "you are doing a good job,surya\n",
      "you are doing a good job,sunil\n",
      "you are doing a good job,shrawal\n"
     ]
    }
   ],
   "source": [
    "for student in students:\n",
    "    \n",
    "     print(f\"you are doing a good job,{student}\")"
   ]
  },
  {
   "cell_type": "code",
   "execution_count": 15,
   "metadata": {},
   "outputs": [
    {
     "name": "stdout",
     "output_type": "stream",
     "text": [
      "['white', 'black', 'red', 'yellow', 'blue', 'pink', 'green']\n"
     ]
    }
   ],
   "source": [
    "colors= ['white','black','red','yellow','blue','pink','green']\n",
    "\n",
    "print(colors)"
   ]
  },
  {
   "cell_type": "code",
   "execution_count": 16,
   "metadata": {},
   "outputs": [
    {
     "name": "stdout",
     "output_type": "stream",
     "text": [
      "my fav color is ['white', 'black', 'red', 'yellow', 'blue', 'pink', 'green']\n"
     ]
    }
   ],
   "source": [
    "x= f\"my fav color is {colors}\"\n",
    "\n",
    "print(x)"
   ]
  },
  {
   "cell_type": "code",
   "execution_count": 17,
   "metadata": {},
   "outputs": [
    {
     "name": "stdout",
     "output_type": "stream",
     "text": [
      "my fav color is ['white', 'black', 'red', 'yellow', 'blue', 'pink', 'green']\n"
     ]
    }
   ],
   "source": [
    "print(f\"my fav color is {colors}\")"
   ]
  },
  {
   "cell_type": "code",
   "execution_count": 18,
   "metadata": {},
   "outputs": [
    {
     "name": "stdout",
     "output_type": "stream",
     "text": [
      "my fav color is blue\n"
     ]
    }
   ],
   "source": [
    "print(f\"my fav color is {colors[4]}\")"
   ]
  },
  {
   "cell_type": "code",
   "execution_count": 22,
   "metadata": {},
   "outputs": [
    {
     "name": "stdout",
     "output_type": "stream",
     "text": [
      "white\n",
      "black\n",
      "red\n",
      "yellow\n",
      "blue\n",
      "pink\n",
      "green\n"
     ]
    }
   ],
   "source": [
    "for a in colors:\n",
    "    print(a)"
   ]
  },
  {
   "cell_type": "code",
   "execution_count": 25,
   "metadata": {},
   "outputs": [
    {
     "name": "stdout",
     "output_type": "stream",
     "text": [
      "my fav color is white\n",
      "my fav color is black\n",
      "my fav color is red\n",
      "my fav color is yellow\n",
      "my fav color is blue\n",
      "my fav color is pink\n",
      "my fav color is green\n"
     ]
    }
   ],
   "source": [
    "for a in colors:\n",
    "    print(f\"my fav color is {a}\")"
   ]
  },
  {
   "cell_type": "code",
   "execution_count": null,
   "metadata": {},
   "outputs": [],
   "source": [
    "GENERAL SYNTAX FOR A FOR LOOP:"
   ]
  },
  {
   "cell_type": "code",
   "execution_count": null,
   "metadata": {},
   "outputs": [],
   "source": [
    "for tempvar in mainvar:\n",
    "   \n",
    "     print(tempvar)"
   ]
  },
  {
   "cell_type": "code",
   "execution_count": 26,
   "metadata": {},
   "outputs": [
    {
     "name": "stdout",
     "output_type": "stream",
     "text": [
      "soumya\n",
      "saif\n",
      "suchi\n",
      "surya\n",
      "sunil\n",
      "shrawal\n"
     ]
    }
   ],
   "source": [
    "for student in students:                 #thus in this \n",
    "                                            student is tempvar\n",
    "    print(student)                          students is mainvar"
   ]
  },
  {
   "cell_type": "code",
   "execution_count": null,
   "metadata": {},
   "outputs": [],
   "source": [
    "Enhancement of the code:\n",
    "    \n",
    "indentation----------->"
   ]
  },
  {
   "cell_type": "code",
   "execution_count": 30,
   "metadata": {},
   "outputs": [
    {
     "name": "stdout",
     "output_type": "stream",
     "text": [
      "keep up the work, soumya\n",
      "looking forward to receive all you file today,soumya\n",
      "\n",
      "keep up the work, saif\n",
      "looking forward to receive all you file today,saif\n",
      "\n",
      "keep up the work, suchi\n",
      "looking forward to receive all you file today,suchi\n",
      "\n",
      "keep up the work, surya\n",
      "looking forward to receive all you file today,surya\n",
      "\n",
      "keep up the work, sunil\n",
      "looking forward to receive all you file today,sunil\n",
      "\n",
      "keep up the work, shrawal\n",
      "looking forward to receive all you file today,shrawal\n",
      "\n"
     ]
    }
   ],
   "source": [
    "for x in students:\n",
    "    print(f\"keep up the work, {x}\")\n",
    "    print(f\"looking forward to receive all you file today,{x}\\n\")"
   ]
  },
  {
   "cell_type": "code",
   "execution_count": 35,
   "metadata": {},
   "outputs": [
    {
     "name": "stdout",
     "output_type": "stream",
     "text": [
      "keep up the work, soumya\n",
      "looking forward to receive all you file today,soumya\n",
      "thank you everyone\n",
      "\n",
      "keep up the work, saif\n",
      "looking forward to receive all you file today,saif\n",
      "thank you everyone\n",
      "\n",
      "keep up the work, suchi\n",
      "looking forward to receive all you file today,suchi\n",
      "thank you everyone\n",
      "\n",
      "keep up the work, surya\n",
      "looking forward to receive all you file today,surya\n",
      "thank you everyone\n",
      "\n",
      "keep up the work, sunil\n",
      "looking forward to receive all you file today,sunil\n",
      "thank you everyone\n",
      "\n",
      "keep up the work, shrawal\n",
      "looking forward to receive all you file today,shrawal\n",
      "thank you everyone\n",
      "\n"
     ]
    }
   ],
   "source": [
    "for x in students:\n",
    "    print(f\"keep up the work, {x}\")\n",
    "    print(f\"looking forward to receive all you file today,{x}\")\n",
    "    print(\"thank you everyone\\n\")"
   ]
  },
  {
   "cell_type": "code",
   "execution_count": null,
   "metadata": {},
   "outputs": [],
   "source": [
    "# making a numberical list:1-50"
   ]
  },
  {
   "cell_type": "code",
   "execution_count": 36,
   "metadata": {},
   "outputs": [
    {
     "name": "stdout",
     "output_type": "stream",
     "text": [
      "1\n",
      "2\n",
      "3\n",
      "4\n",
      "5\n",
      "6\n",
      "7\n",
      "8\n",
      "9\n",
      "10\n",
      "11\n",
      "12\n",
      "13\n",
      "14\n",
      "15\n",
      "16\n",
      "17\n",
      "18\n",
      "19\n",
      "20\n",
      "21\n",
      "22\n",
      "23\n",
      "24\n",
      "25\n",
      "26\n",
      "27\n",
      "28\n",
      "29\n",
      "30\n",
      "31\n",
      "32\n",
      "33\n",
      "34\n",
      "35\n",
      "36\n",
      "37\n",
      "38\n",
      "39\n",
      "40\n",
      "41\n",
      "42\n",
      "43\n",
      "44\n",
      "45\n",
      "46\n",
      "47\n",
      "48\n",
      "49\n"
     ]
    }
   ],
   "source": [
    "for value in range(1,50):             # defining any range, last value is always excluded.\n",
    "    print(value)                       "
   ]
  },
  {
   "cell_type": "code",
   "execution_count": 38,
   "metadata": {},
   "outputs": [
    {
     "name": "stdout",
     "output_type": "stream",
     "text": [
      "[1, 2, 3, 4, 5, 6, 7, 8, 9, 10, 11, 12, 13, 14, 15, 16, 17, 18, 19]\n"
     ]
    }
   ],
   "source": [
    "number= list(range(1,20))\n",
    "\n",
    "print(number)"
   ]
  },
  {
   "cell_type": "code",
   "execution_count": null,
   "metadata": {},
   "outputs": [],
   "source": []
  },
  {
   "cell_type": "code",
   "execution_count": null,
   "metadata": {},
   "outputs": [],
   "source": []
  },
  {
   "cell_type": "code",
   "execution_count": null,
   "metadata": {},
   "outputs": [],
   "source": []
  },
  {
   "cell_type": "code",
   "execution_count": null,
   "metadata": {},
   "outputs": [],
   "source": []
  },
  {
   "cell_type": "code",
   "execution_count": null,
   "metadata": {},
   "outputs": [],
   "source": []
  }
 ],
 "metadata": {
  "kernelspec": {
   "display_name": "Python 3",
   "language": "python",
   "name": "python3"
  },
  "language_info": {
   "codemirror_mode": {
    "name": "ipython",
    "version": 3
   },
   "file_extension": ".py",
   "mimetype": "text/x-python",
   "name": "python",
   "nbconvert_exporter": "python",
   "pygments_lexer": "ipython3",
   "version": "3.7.6"
  }
 },
 "nbformat": 4,
 "nbformat_minor": 4
}
